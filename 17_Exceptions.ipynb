{
 "cells": [
  {
   "cell_type": "markdown",
   "metadata": {},
   "source": [
    "# Exceptions\n",
    "- Definition\n",
    "- Try - Except block\n",
    "- Catching exception message\n",
    "- Assert an exception\n",
    "- Raise an exception\n",
    "- Assert Vs Raise"
   ]
  },
  {
   "cell_type": "code",
   "execution_count": 1,
   "metadata": {},
   "outputs": [
    {
     "ename": "ZeroDivisionError",
     "evalue": "division by zero",
     "output_type": "error",
     "traceback": [
      "\u001b[1;31m---------------------------------------------------------------------------\u001b[0m",
      "\u001b[1;31mZeroDivisionError\u001b[0m                         Traceback (most recent call last)",
      "\u001b[1;32m<ipython-input-1-5392cf9e8fb4>\u001b[0m in \u001b[0;36m<module>\u001b[1;34m()\u001b[0m\n\u001b[0;32m      1\u001b[0m \u001b[0ma\u001b[0m \u001b[1;33m=\u001b[0m \u001b[1;36m10\u001b[0m\u001b[1;33m\u001b[0m\u001b[0m\n\u001b[0;32m      2\u001b[0m \u001b[0mb\u001b[0m \u001b[1;33m=\u001b[0m \u001b[1;36m0\u001b[0m\u001b[1;33m\u001b[0m\u001b[0m\n\u001b[1;32m----> 3\u001b[1;33m \u001b[0mprint\u001b[0m\u001b[1;33m(\u001b[0m\u001b[0ma\u001b[0m\u001b[1;33m/\u001b[0m\u001b[0mb\u001b[0m\u001b[1;33m)\u001b[0m\u001b[1;33m\u001b[0m\u001b[0m\n\u001b[0m\u001b[0;32m      4\u001b[0m \u001b[0mprint\u001b[0m\u001b[1;33m(\u001b[0m\u001b[1;34m\"Something1\"\u001b[0m\u001b[1;33m)\u001b[0m\u001b[1;33m\u001b[0m\u001b[0m\n\u001b[0;32m      5\u001b[0m \u001b[0mprint\u001b[0m\u001b[1;33m(\u001b[0m\u001b[1;34m\"Something2\"\u001b[0m\u001b[1;33m)\u001b[0m\u001b[1;33m\u001b[0m\u001b[0m\n",
      "\u001b[1;31mZeroDivisionError\u001b[0m: division by zero"
     ]
    }
   ],
   "source": [
    "a = 10\n",
    "b = 0\n",
    "print(a/b)\n",
    "print(\"Something1\")\n",
    "print(\"Something2\")"
   ]
  },
  {
   "cell_type": "code",
   "execution_count": null,
   "metadata": {},
   "outputs": [],
   "source": [
    "Syntax:\n",
    "try:\n",
    "    <write your doubtfull code here>\n",
    "    .\n",
    "    .\n",
    "except:\n",
    "    <other part of code>\n",
    "    .\n",
    "    .\n",
    "else: # This is optional, will be executed when there is no exception at all\n",
    "finally: #  This is optional, will be executed always, no matter exception comes or not\n",
    "    "
   ]
  },
  {
   "cell_type": "code",
   "execution_count": 4,
   "metadata": {},
   "outputs": [
    {
     "name": "stdout",
     "output_type": "stream",
     "text": [
      "Enter a number...0\n",
      "I am in except block\n"
     ]
    }
   ],
   "source": [
    "try:\n",
    "    a = 10\n",
    "    b = int(input(\"Enter a number...\"))\n",
    "    print(a/b)\n",
    "except:\n",
    "    print(\"I am in except block\")"
   ]
  },
  {
   "cell_type": "markdown",
   "metadata": {},
   "source": [
    "## Catch a execption message"
   ]
  },
  {
   "cell_type": "code",
   "execution_count": 6,
   "metadata": {},
   "outputs": [
    {
     "name": "stdout",
     "output_type": "stream",
     "text": [
      "Enter a number...0\n",
      "Root cause of exception is:: division by zero\n"
     ]
    }
   ],
   "source": [
    "try:\n",
    "    a = 10\n",
    "    b = int(input(\"Enter a number...\"))\n",
    "    print(a/b)\n",
    "except Exception as err:\n",
    "    print(\"Root cause of exception is::\",err)"
   ]
  },
  {
   "cell_type": "markdown",
   "metadata": {},
   "source": [
    "#### Catch different message"
   ]
  },
  {
   "cell_type": "code",
   "execution_count": 1,
   "metadata": {},
   "outputs": [
    {
     "name": "stdout",
     "output_type": "stream",
     "text": [
      "Enter a number...a\n",
      "Root cause of exception is:: invalid literal for int() with base 10: 'a'\n"
     ]
    }
   ],
   "source": [
    "try:\n",
    "    a = 10\n",
    "    b = int(input(\"Enter a number...\"))\n",
    "    print(a/b)\n",
    "except Exception as err:\n",
    "    print(\"Root cause of exception is::\",err)"
   ]
  },
  {
   "cell_type": "markdown",
   "metadata": {},
   "source": [
    "##### Hard code any child execption class"
   ]
  },
  {
   "cell_type": "code",
   "execution_count": 8,
   "metadata": {},
   "outputs": [
    {
     "name": "stdout",
     "output_type": "stream",
     "text": [
      "Enter a number...a\n",
      "Root cause of exception is:: invalid literal for int() with base 10: 'a'\n"
     ]
    }
   ],
   "source": [
    "try:\n",
    "    a = 10\n",
    "    b = int(input(\"Enter a number...\"))\n",
    "    print(a/b)\n",
    "except (TypeError,ValueError,ZeroDivisionError) as err:\n",
    "    print(\"Root cause of exception is::\",err)"
   ]
  },
  {
   "cell_type": "code",
   "execution_count": 9,
   "metadata": {},
   "outputs": [
    {
     "name": "stdout",
     "output_type": "stream",
     "text": [
      "Root cause of exception is:: unsupported operand type(s) for +: 'int' and 'str'\n"
     ]
    }
   ],
   "source": [
    "try:\n",
    "    a = 10\n",
    "    print(a+\"10\")\n",
    "except (TypeError,ValueError,ZeroDivisionError) as err:\n",
    "    print(\"Root cause of exception is::\",err)"
   ]
  },
  {
   "cell_type": "code",
   "execution_count": 10,
   "metadata": {},
   "outputs": [
    {
     "name": "stdout",
     "output_type": "stream",
     "text": [
      "Root cause of exception is:: unsupported operand type(s) for +: 'int' and 'str'\n",
      "i am after try and except block\n"
     ]
    }
   ],
   "source": [
    "try:\n",
    "    a = 10\n",
    "    print(a+\"10\")\n",
    "except (TypeError,ValueError,ZeroDivisionError) as err:\n",
    "    print(\"Root cause of exception is::\",err)\n",
    "print(\"i am after try and except block\")"
   ]
  },
  {
   "cell_type": "markdown",
   "metadata": {},
   "source": [
    "##### Using else"
   ]
  },
  {
   "cell_type": "code",
   "execution_count": 11,
   "metadata": {},
   "outputs": [
    {
     "name": "stdout",
     "output_type": "stream",
     "text": [
      "Root cause of exception is:: unsupported operand type(s) for +: 'int' and 'str'\n"
     ]
    }
   ],
   "source": [
    "try:\n",
    "    a = 10\n",
    "    print(a+\"10\")\n",
    "except (TypeError,ValueError,ZeroDivisionError) as err:\n",
    "    print(\"Root cause of exception is::\",err)\n",
    "else:\n",
    "    print(\"I am in else\")\n",
    "    "
   ]
  },
  {
   "cell_type": "code",
   "execution_count": 12,
   "metadata": {},
   "outputs": [
    {
     "name": "stdout",
     "output_type": "stream",
     "text": [
      "20\n",
      "I am in else\n"
     ]
    }
   ],
   "source": [
    "try:\n",
    "    a = 10\n",
    "    print(a+10)\n",
    "except (TypeError,ValueError,ZeroDivisionError) as err:\n",
    "    print(\"Root cause of exception is::\",err)\n",
    "else:\n",
    "    print(\"I am in else\")\n",
    "    "
   ]
  },
  {
   "cell_type": "markdown",
   "metadata": {},
   "source": [
    "# Using finally"
   ]
  },
  {
   "cell_type": "code",
   "execution_count": 13,
   "metadata": {},
   "outputs": [
    {
     "name": "stdout",
     "output_type": "stream",
     "text": [
      "Enter a number...10\n",
      "20\n",
      "I am in finally clause\n"
     ]
    }
   ],
   "source": [
    "try:\n",
    "    a = 10\n",
    "    b = int(input(\"Enter a number...\"))\n",
    "    print(a+b)\n",
    "except (TypeError,ValueError,ZeroDivisionError) as err:\n",
    "    print(\"Root cause of exception is::\",err)\n",
    "finally:\n",
    "    print(\"I am in finally clause\")\n",
    "    "
   ]
  },
  {
   "cell_type": "code",
   "execution_count": 14,
   "metadata": {},
   "outputs": [
    {
     "name": "stdout",
     "output_type": "stream",
     "text": [
      "Enter a number...a\n",
      "Root cause of exception is:: invalid literal for int() with base 10: 'a'\n",
      "I am in finally clause\n"
     ]
    }
   ],
   "source": [
    "try:\n",
    "    a = 10\n",
    "    b = int(input(\"Enter a number...\"))\n",
    "    print(a+b)\n",
    "except (TypeError,ValueError,ZeroDivisionError) as err:\n",
    "    print(\"Root cause of exception is::\",err)\n",
    "finally:\n",
    "    print(\"I am in finally clause\")\n",
    "    "
   ]
  },
  {
   "cell_type": "markdown",
   "metadata": {},
   "source": [
    "# else + finally"
   ]
  },
  {
   "cell_type": "code",
   "execution_count": 15,
   "metadata": {},
   "outputs": [
    {
     "name": "stdout",
     "output_type": "stream",
     "text": [
      "Enter a number...10\n",
      "20\n",
      "I am in else\n",
      "I am in finally clause\n"
     ]
    }
   ],
   "source": [
    "try:\n",
    "    a = 10\n",
    "    b = int(input(\"Enter a number...\"))\n",
    "    print(a+b)\n",
    "except (TypeError,ValueError,ZeroDivisionError) as err:\n",
    "    print(\"Root cause of exception is::\",err)\n",
    "else:\n",
    "    print(\"I am in else\")\n",
    "finally:\n",
    "    print(\"I am in finally clause\")\n",
    "    "
   ]
  },
  {
   "cell_type": "code",
   "execution_count": 17,
   "metadata": {},
   "outputs": [
    {
     "name": "stdout",
     "output_type": "stream",
     "text": [
      "Enter a number...0\n",
      "Root cause of exception is:: division by zero\n",
      "I am in finally clause\n"
     ]
    }
   ],
   "source": [
    "try:\n",
    "    a = 10\n",
    "    b = int(input(\"Enter a number...\"))\n",
    "    print(a/b)\n",
    "except (TypeError,ValueError,ZeroDivisionError) as err:\n",
    "    print(\"Root cause of exception is::\",err)\n",
    "else:\n",
    "    print(\"I am in else\")\n",
    "finally:\n",
    "    print(\"I am in finally clause\")\n",
    "    "
   ]
  },
  {
   "cell_type": "markdown",
   "metadata": {},
   "source": [
    "# assert an exception"
   ]
  },
  {
   "cell_type": "code",
   "execution_count": 18,
   "metadata": {},
   "outputs": [
    {
     "ename": "AssertionError",
     "evalue": "Level is too low!!!",
     "output_type": "error",
     "traceback": [
      "\u001b[1;31m---------------------------------------------------------------------------\u001b[0m",
      "\u001b[1;31mAssertionError\u001b[0m                            Traceback (most recent call last)",
      "\u001b[1;32m<ipython-input-18-507374345834>\u001b[0m in \u001b[0;36m<module>\u001b[1;34m()\u001b[0m\n\u001b[0;32m      2\u001b[0m     \u001b[1;32massert\u001b[0m \u001b[0mx\u001b[0m\u001b[1;33m>\u001b[0m\u001b[1;36m0\u001b[0m\u001b[1;33m,\u001b[0m\u001b[1;34m\"Level is too low!!!\"\u001b[0m\u001b[1;33m\u001b[0m\u001b[0m\n\u001b[0;32m      3\u001b[0m     \u001b[0mprint\u001b[0m\u001b[1;33m(\u001b[0m\u001b[1;34m\"level is OK\"\u001b[0m\u001b[1;33m)\u001b[0m\u001b[1;33m\u001b[0m\u001b[0m\n\u001b[1;32m----> 4\u001b[1;33m \u001b[0mchkLevel\u001b[0m\u001b[1;33m(\u001b[0m\u001b[1;33m-\u001b[0m\u001b[1;36m10\u001b[0m\u001b[1;33m)\u001b[0m\u001b[1;33m\u001b[0m\u001b[0m\n\u001b[0m",
      "\u001b[1;32m<ipython-input-18-507374345834>\u001b[0m in \u001b[0;36mchkLevel\u001b[1;34m(x)\u001b[0m\n\u001b[0;32m      1\u001b[0m \u001b[1;32mdef\u001b[0m \u001b[0mchkLevel\u001b[0m\u001b[1;33m(\u001b[0m\u001b[0mx\u001b[0m\u001b[1;33m)\u001b[0m\u001b[1;33m:\u001b[0m\u001b[1;33m\u001b[0m\u001b[0m\n\u001b[1;32m----> 2\u001b[1;33m     \u001b[1;32massert\u001b[0m \u001b[0mx\u001b[0m\u001b[1;33m>\u001b[0m\u001b[1;36m0\u001b[0m\u001b[1;33m,\u001b[0m\u001b[1;34m\"Level is too low!!!\"\u001b[0m\u001b[1;33m\u001b[0m\u001b[0m\n\u001b[0m\u001b[0;32m      3\u001b[0m     \u001b[0mprint\u001b[0m\u001b[1;33m(\u001b[0m\u001b[1;34m\"level is OK\"\u001b[0m\u001b[1;33m)\u001b[0m\u001b[1;33m\u001b[0m\u001b[0m\n\u001b[0;32m      4\u001b[0m \u001b[0mchkLevel\u001b[0m\u001b[1;33m(\u001b[0m\u001b[1;33m-\u001b[0m\u001b[1;36m10\u001b[0m\u001b[1;33m)\u001b[0m\u001b[1;33m\u001b[0m\u001b[0m\n",
      "\u001b[1;31mAssertionError\u001b[0m: Level is too low!!!"
     ]
    }
   ],
   "source": [
    "def chkLevel(x):\n",
    "    assert x>0,\"Level is too low!!!\"\n",
    "    print(\"level is OK\")\n",
    "chkLevel(-10)"
   ]
  },
  {
   "cell_type": "code",
   "execution_count": 19,
   "metadata": {},
   "outputs": [
    {
     "name": "stdout",
     "output_type": "stream",
     "text": [
      "Root cause is:: Level is too low!!!\n"
     ]
    }
   ],
   "source": [
    "def chkLevel(x):\n",
    "    assert x>0,\"Level is too low!!!\"\n",
    "    print(\"level is OK\")\n",
    "try:\n",
    "    chkLevel(-10)\n",
    "except AssertionError as err:\n",
    "    print(\"Root cause is::\",err)\n",
    "    "
   ]
  },
  {
   "cell_type": "code",
   "execution_count": 20,
   "metadata": {},
   "outputs": [
    {
     "name": "stdout",
     "output_type": "stream",
     "text": [
      "Root cause is:: Level is too low!!!\n"
     ]
    }
   ],
   "source": [
    "def chkLevel(x):\n",
    "    assert x>0,\"Level is too low!!!\"\n",
    "    print(\"level is OK\")\n",
    "try:\n",
    "    chkLevel(-10)\n",
    "except Exception as err:\n",
    "    print(\"Root cause is::\",err)\n",
    "    "
   ]
  },
  {
   "cell_type": "markdown",
   "metadata": {},
   "source": [
    "# raise an exception"
   ]
  },
  {
   "cell_type": "code",
   "execution_count": 23,
   "metadata": {},
   "outputs": [
    {
     "name": "stdout",
     "output_type": "stream",
     "text": [
      "Root cause is:: Level is too low!!!\n"
     ]
    }
   ],
   "source": [
    "def chkLevel(x):\n",
    "    if x<0:\n",
    "        raise ZeroDivisionError(\"Level is too low!!!\")\n",
    "    else:\n",
    "        print(\"level is OK\")\n",
    "# chkLevel(-10)\n",
    "\n",
    "try:\n",
    "    chkLevel(-10)\n",
    "except ZeroDivisionError as err:\n",
    "    print(\"Root cause is::\",err)\n",
    "    "
   ]
  }
 ],
 "metadata": {
  "kernelspec": {
   "display_name": "Python 3",
   "language": "python",
   "name": "python3"
  },
  "language_info": {
   "codemirror_mode": {
    "name": "ipython",
    "version": 3
   },
   "file_extension": ".py",
   "mimetype": "text/x-python",
   "name": "python",
   "nbconvert_exporter": "python",
   "pygments_lexer": "ipython3",
   "version": "3.6.4"
  }
 },
 "nbformat": 4,
 "nbformat_minor": 2
}
