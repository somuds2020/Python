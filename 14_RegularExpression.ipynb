{
 "cells": [
  {
   "cell_type": "markdown",
   "metadata": {},
   "source": [
    "# Regular Expressions\n",
    "- Definition\n",
    "- Match Vs Search\n",
    "- Substitute substrings\n",
    "- Meta Vs Literal characters\n",
    "- Various identifiers\n",
    "- Back referencing example\n",
    "- Exercise"
   ]
  },
  {
   "cell_type": "code",
   "execution_count": 1,
   "metadata": {},
   "outputs": [],
   "source": [
    "import re"
   ]
  },
  {
   "cell_type": "markdown",
   "metadata": {},
   "source": [
    "# match"
   ]
  },
  {
   "cell_type": "code",
   "execution_count": 3,
   "metadata": {},
   "outputs": [
    {
     "name": "stdout",
     "output_type": "stream",
     "text": [
      "This\n"
     ]
    }
   ],
   "source": [
    "a = \"This is Learnbay class1\"\n",
    "mObj = re.match(\"This\",a)\n",
    "# mObj = re.match(\"Learnbay\",a)\n",
    "if mObj:\n",
    "    print(mObj.group())"
   ]
  },
  {
   "cell_type": "code",
   "execution_count": 4,
   "metadata": {},
   "outputs": [],
   "source": [
    "a = \"This is Learnbay class1\"\n",
    "# mObj = re.match(\"This\",a)\n",
    "mObj = re.match(\"Learnbay\",a)\n",
    "if mObj:\n",
    "    print(mObj.group())"
   ]
  },
  {
   "cell_type": "markdown",
   "metadata": {},
   "source": [
    "# Search"
   ]
  },
  {
   "cell_type": "code",
   "execution_count": 5,
   "metadata": {},
   "outputs": [
    {
     "name": "stdout",
     "output_type": "stream",
     "text": [
      "Learnbay\n"
     ]
    }
   ],
   "source": [
    "a = \"This is Learnbay class1\"\n",
    "sObj = re.search(\"Learnbay\",a)\n",
    "if sObj:\n",
    "    print(sObj.group())\n",
    "#     print(sObj.group(1))\n",
    "#     print(sObj.groups())"
   ]
  },
  {
   "cell_type": "markdown",
   "metadata": {},
   "source": [
    "# grouping"
   ]
  },
  {
   "cell_type": "code",
   "execution_count": 8,
   "metadata": {},
   "outputs": [
    {
     "name": "stdout",
     "output_type": "stream",
     "text": [
      "Learnbay class\n",
      "Learnbay\n",
      "('Learnbay', 'class')\n"
     ]
    }
   ],
   "source": [
    "a = \"This is Learnbay class1\"\n",
    "sObj = re.search(\"(Learnbay) (class)\",a)\n",
    "if sObj:\n",
    "    print(sObj.group())\n",
    "    print(sObj.group(1))\n",
    "    print(sObj.groups())"
   ]
  },
  {
   "cell_type": "markdown",
   "metadata": {},
   "source": [
    "# Substitute"
   ]
  },
  {
   "cell_type": "code",
   "execution_count": 9,
   "metadata": {},
   "outputs": [
    {
     "name": "stdout",
     "output_type": "stream",
     "text": [
      "This is LEARNBAY class1\n"
     ]
    }
   ],
   "source": [
    "a = \"This is Learnbay class1\"\n",
    "op = re.sub(\"Learnbay\",\"LEARNBAY\",a)\n",
    "print(op)"
   ]
  },
  {
   "cell_type": "code",
   "execution_count": 10,
   "metadata": {},
   "outputs": [
    {
     "name": "stdout",
     "output_type": "stream",
     "text": [
      "This is Learnbay CLASS1 CLASS1 CLASS1 CLASS1 CLASS1\n"
     ]
    }
   ],
   "source": [
    "a = \"This is Learnbay class1 class1 class1 class1 class1\"\n",
    "op = re.sub(\"class\",\"CLASS\",a)\n",
    "print(op)"
   ]
  },
  {
   "cell_type": "code",
   "execution_count": 11,
   "metadata": {},
   "outputs": [
    {
     "name": "stdout",
     "output_type": "stream",
     "text": [
      "This is Learnbay CLASS1 CLASS1 class1 class1 class1\n"
     ]
    }
   ],
   "source": [
    "a = \"This is Learnbay class1 class1 class1 class1 class1\"\n",
    "op = re.sub(\"class\",\"CLASS\",a,count=2)\n",
    "print(op)"
   ]
  },
  {
   "cell_type": "markdown",
   "metadata": {},
   "source": [
    "# Findall"
   ]
  },
  {
   "cell_type": "code",
   "execution_count": 12,
   "metadata": {},
   "outputs": [
    {
     "name": "stdout",
     "output_type": "stream",
     "text": [
      "['class', 'class']\n"
     ]
    }
   ],
   "source": [
    "a = \"This is Learnbay class1 class1 cLaSS1 cLASS1 CLAss1\"\n",
    "op = re.findall(\"class\",a)\n",
    "print(op)"
   ]
  },
  {
   "cell_type": "markdown",
   "metadata": {},
   "source": [
    "# using flags"
   ]
  },
  {
   "cell_type": "code",
   "execution_count": 15,
   "metadata": {},
   "outputs": [
    {
     "name": "stdout",
     "output_type": "stream",
     "text": [
      "['class', 'class', 'cLaSS', 'cLASS', 'CLAss']\n",
      "5\n"
     ]
    }
   ],
   "source": [
    "a = \"This is Learnbay class1 class1 cLaSS1 cLASS1 CLAss1\"\n",
    "op = re.findall(\"class\",a,re.I)\n",
    "print(op)\n",
    "print(len(op))"
   ]
  },
  {
   "cell_type": "code",
   "execution_count": 18,
   "metadata": {},
   "outputs": [
    {
     "name": "stdout",
     "output_type": "stream",
     "text": [
      "ABCDE123\n"
     ]
    }
   ],
   "source": [
    "a = \"ABCDE123@#$ABC^@#123\"\n",
    "sObj = re.search(\"\\w+\",a)\n",
    "if sObj:\n",
    "    print(sObj.group())\n",
    "#     print(sObj.group(1))\n",
    "#     print(sObj.groups())"
   ]
  },
  {
   "cell_type": "code",
   "execution_count": 20,
   "metadata": {},
   "outputs": [
    {
     "name": "stdout",
     "output_type": "stream",
     "text": [
      "123\n"
     ]
    }
   ],
   "source": [
    "a = \"ABCDE123@#$ABC^@#123\"\n",
    "sObj = re.search(\"\\d+\",a)\n",
    "if sObj:\n",
    "    print(sObj.group())\n",
    "#     print(sObj.group(1))\n",
    "#     print(sObj.groups())"
   ]
  },
  {
   "cell_type": "code",
   "execution_count": 24,
   "metadata": {},
   "outputs": [
    {
     "name": "stdout",
     "output_type": "stream",
     "text": [
      "ABCDE123@#$ABC\n",
      "('ABCDE123', '@#$', 'ABC')\n"
     ]
    }
   ],
   "source": [
    "a = \"ABCDE123@#$ABC^@#123\"\n",
    "sObj = re.search(\"(\\w+)(\\W+)(\\w+)\",a)\n",
    "if sObj:\n",
    "    print(sObj.group())\n",
    "#     print(sObj.group(1))\n",
    "    print(sObj.groups())"
   ]
  },
  {
   "cell_type": "code",
   "execution_count": 26,
   "metadata": {},
   "outputs": [
    {
     "name": "stdout",
     "output_type": "stream",
     "text": [
      "1111\n"
     ]
    }
   ],
   "source": [
    "a = \"1111111111\"\n",
    "sObj = re.search(\"\\d\\d\\d\\d\",a)\n",
    "# sObj = re.search(\"\\d{4}\",a)\n",
    "if sObj:\n",
    "    print(sObj.group())\n",
    "#     print(sObj.group(1))\n",
    "#     print(sObj.groups())"
   ]
  },
  {
   "cell_type": "code",
   "execution_count": 37,
   "metadata": {},
   "outputs": [
    {
     "name": "stdout",
     "output_type": "stream",
     "text": [
      "33356\n"
     ]
    }
   ],
   "source": [
    "a = \"22 33356 1111111111 111 2\"\n",
    "sObj = re.search(\"\\d{4,}\",a)\n",
    "if sObj:\n",
    "    print(sObj.group())\n",
    "#     print(sObj.group(1))\n",
    "#     print(sObj.groups())"
   ]
  },
  {
   "cell_type": "code",
   "execution_count": 33,
   "metadata": {},
   "outputs": [
    {
     "name": "stdout",
     "output_type": "stream",
     "text": [
      "111111\n"
     ]
    }
   ],
   "source": [
    "a = \"1111111111\"\n",
    "sObj = re.search(\"\\d{4,6}\",a)\n",
    "if sObj:\n",
    "    print(sObj.group())\n",
    "#     print(sObj.group(1))\n",
    "#     print(sObj.groups())"
   ]
  },
  {
   "cell_type": "code",
   "execution_count": 38,
   "metadata": {},
   "outputs": [
    {
     "name": "stdout",
     "output_type": "stream",
     "text": [
      "111111\n"
     ]
    }
   ],
   "source": [
    "a = \"1111111111\"\n",
    "sObj = re.search(\"[0-9]{4,6}\",a)\n",
    "if sObj:\n",
    "    print(sObj.group())\n",
    "#     print(sObj.group(1))\n",
    "#     print(sObj.groups())"
   ]
  },
  {
   "cell_type": "code",
   "execution_count": 41,
   "metadata": {},
   "outputs": [
    {
     "name": "stdout",
     "output_type": "stream",
     "text": [
      "2222\n"
     ]
    }
   ],
   "source": [
    "a = \"111 2222 22 333\"\n",
    "# sObj = re.search(\"2{3,}\",a)\n",
    "# sObj = re.search(\"2{2,}\",a)\n",
    "sObj = re.search(\"2{2,6}\",a)\n",
    "if sObj:\n",
    "    print(sObj.group())\n",
    "#     print(sObj.group(1))\n",
    "#     print(sObj.groups())"
   ]
  },
  {
   "cell_type": "code",
   "execution_count": 45,
   "metadata": {},
   "outputs": [
    {
     "name": "stdout",
     "output_type": "stream",
     "text": [
      "LEAR\n",
      "bay\n"
     ]
    }
   ],
   "source": [
    "a = \"This is LEAR\\nbay\"\n",
    "sObj = re.search(\"lear.bay\",a,re.I|re.S)\n",
    "if sObj:\n",
    "    print(sObj.group())\n",
    "#     print(sObj.group(1))\n",
    "#     print(sObj.groups())"
   ]
  },
  {
   "cell_type": "code",
   "execution_count": 48,
   "metadata": {},
   "outputs": [
    {
     "name": "stdout",
     "output_type": "stream",
     "text": [
      "leaRnbay\n"
     ]
    }
   ],
   "source": [
    "a = \"This is leaRnbay\"\n",
    "sObj = re.search(\"(learnbay|LEARNBAY|leaRnbay)\",a)\n",
    "if sObj:\n",
    "    print(sObj.group())\n",
    "#     print(sObj.group(1))\n",
    "#     print(sObj.groups())"
   ]
  },
  {
   "cell_type": "code",
   "execution_count": 49,
   "metadata": {},
   "outputs": [
    {
     "name": "stdout",
     "output_type": "stream",
     "text": [
      "leaRnbay\n"
     ]
    }
   ],
   "source": [
    "a = \"This is leaRnbay\"\n",
    "sObj = re.search(\"([a-z]eaRnbay)\",a)\n",
    "if sObj:\n",
    "    print(sObj.group())\n",
    "#     print(sObj.group(1))\n",
    "#     print(sObj.groups())"
   ]
  },
  {
   "cell_type": "code",
   "execution_count": 53,
   "metadata": {},
   "outputs": [
    {
     "name": "stdout",
     "output_type": "stream",
     "text": [
      "2eaRnbay\n"
     ]
    }
   ],
   "source": [
    "a = \"This is 2eaRnbay\"\n",
    "sObj = re.search(\"([^aA-zZ]eaRnbay)\",a)\n",
    "if sObj:\n",
    "    print(sObj.group())\n",
    "#     print(sObj.group(1))\n",
    "#     print(sObj.groups())"
   ]
  },
  {
   "cell_type": "markdown",
   "metadata": {},
   "source": [
    "# ?"
   ]
  },
  {
   "cell_type": "code",
   "execution_count": 58,
   "metadata": {},
   "outputs": [
    {
     "name": "stdout",
     "output_type": "stream",
     "text": [
      "learnbay\n"
     ]
    }
   ],
   "source": [
    "a = \"This is learnbay\"\n",
    "sObj = re.search(\"l?earnbay\",a)\n",
    "if sObj:\n",
    "    print(sObj.group())"
   ]
  },
  {
   "cell_type": "markdown",
   "metadata": {},
   "source": [
    "# *"
   ]
  },
  {
   "cell_type": "code",
   "execution_count": 64,
   "metadata": {},
   "outputs": [
    {
     "name": "stdout",
     "output_type": "stream",
     "text": [
      "learnbayyyz\n"
     ]
    }
   ],
   "source": [
    "a = \"This is learnbayyyz456\"\n",
    "sObj = re.search(\"learnbay+.\",a)\n",
    "if sObj:\n",
    "    print(sObj.group())"
   ]
  },
  {
   "cell_type": "markdown",
   "metadata": {},
   "source": [
    "# Back referencing"
   ]
  },
  {
   "cell_type": "code",
   "execution_count": 66,
   "metadata": {},
   "outputs": [
    {
     "name": "stdout",
     "output_type": "stream",
     "text": [
      "111 111 \n"
     ]
    }
   ],
   "source": [
    "a = \"111 111 111 111 \"\n",
    "sObj = re.search(\"(111 )(111 )\",a)\n",
    "if sObj:\n",
    "    print(sObj.group())"
   ]
  },
  {
   "cell_type": "code",
   "execution_count": 70,
   "metadata": {},
   "outputs": [
    {
     "name": "stdout",
     "output_type": "stream",
     "text": [
      "111 111 111 111 \n"
     ]
    }
   ],
   "source": [
    "a = \"111 111 111 111 \"\n",
    "sObj = re.search(\"(111 )(\\\\1)\\\\2\\\\2\",a)\n",
    "if sObj:\n",
    "    print(sObj.group())"
   ]
  },
  {
   "cell_type": "code",
   "execution_count": 71,
   "metadata": {},
   "outputs": [
    {
     "name": "stdout",
     "output_type": "stream",
     "text": [
      "111 111 \n"
     ]
    }
   ],
   "source": [
    "a = \"111 111 111 111 \"\n",
    "sObj = re.search(\"(111 ){2}\",a)\n",
    "if sObj:\n",
    "    print(sObj.group())"
   ]
  },
  {
   "cell_type": "code",
   "execution_count": 73,
   "metadata": {},
   "outputs": [
    {
     "name": "stdout",
     "output_type": "stream",
     "text": [
      "111 1\n",
      "1\n"
     ]
    }
   ],
   "source": [
    "a = \"111 111 111 111 \"\n",
    "sObj = re.search(\"(111 )(.)\",a)\n",
    "if sObj:\n",
    "    print(sObj.group())\n",
    "    print(sObj.group(2))"
   ]
  }
 ],
 "metadata": {
  "kernelspec": {
   "display_name": "Python 3",
   "language": "python",
   "name": "python3"
  },
  "language_info": {
   "codemirror_mode": {
    "name": "ipython",
    "version": 3
   },
   "file_extension": ".py",
   "mimetype": "text/x-python",
   "name": "python",
   "nbconvert_exporter": "python",
   "pygments_lexer": "ipython3",
   "version": "3.6.4"
  }
 },
 "nbformat": 4,
 "nbformat_minor": 2
}
