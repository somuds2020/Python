{
 "cells": [
  {
   "cell_type": "markdown",
   "metadata": {},
   "source": [
    "# File I/O\n",
    "- Definition\n",
    "- Opening file using various modes\n",
    "- Read/Write operations on file\n",
    "- Tell and Seek operations\n",
    "- Some OS related operations\n",
    "- Exercise"
   ]
  },
  {
   "cell_type": "code",
   "execution_count": 1,
   "metadata": {},
   "outputs": [],
   "source": [
    "# Syntax:\n",
    "# # open(<file_name>,<mode>)\n",
    "# file_name = Full path of the file or relative path or just file name(in case file is present in root/current dir)\n",
    "# mode = r,w,a,r+,w+,a+,rb,wb,ab,rb+,wb+,ab+\n",
    "# r = read only(default), file must be existing\n",
    "# w = write only, file will be crated if not available\n",
    "# a = append only, file must be existing for appending\n",
    "# + = read+write/append"
   ]
  },
  {
   "cell_type": "code",
   "execution_count": 2,
   "metadata": {},
   "outputs": [],
   "source": [
    "fh = open(\"test1.txt\")\n",
    "# fh = open(\"test1.txt\",\"r\")\n",
    "# fh = open(r\"C:\\Users\\Admin\\Desktop\\DS_June\\23_June_2019\\test1.txt\") # absolute path\n",
    "# fh = open(\"C:\\\\Users\\\\Admin\\\\Desktop\\\\DS_June\\\\23_June_2019\\\\test1.txt\") # absolute path\n",
    "# fh = open(\"C:/Users/Admin/Desktop/DS_June/23_June_2019/test1.txt\")\n",
    "# fh = open(\"./test1.txt\") # relative path"
   ]
  },
  {
   "cell_type": "code",
   "execution_count": 3,
   "metadata": {},
   "outputs": [
    {
     "name": "stdout",
     "output_type": "stream",
     "text": [
      "<_io.TextIOWrapper name='test1.txt' mode='r' encoding='cp1252'>\n"
     ]
    }
   ],
   "source": [
    "print(fh)"
   ]
  },
  {
   "cell_type": "code",
   "execution_count": 5,
   "metadata": {},
   "outputs": [
    {
     "data": {
      "text/plain": [
       "'Th'"
      ]
     },
     "execution_count": 5,
     "metadata": {},
     "output_type": "execute_result"
    }
   ],
   "source": [
    "fh = open(\"test1.txt\")\n",
    "# fh.read()\n",
    "fh.read(2) # reading number of characters, i.e 2 in this case\n",
    "# fh.readline()\n",
    "# fh.readlines()"
   ]
  },
  {
   "cell_type": "code",
   "execution_count": 13,
   "metadata": {},
   "outputs": [
    {
     "data": {
      "text/plain": [
       "'is'"
      ]
     },
     "execution_count": 13,
     "metadata": {},
     "output_type": "execute_result"
    }
   ],
   "source": [
    "fh.read(2)"
   ]
  },
  {
   "cell_type": "code",
   "execution_count": 15,
   "metadata": {},
   "outputs": [
    {
     "data": {
      "text/plain": [
       "['This is Line1\\n',\n",
       " 'This is Line2\\n',\n",
       " 'This is Line3\\n',\n",
       " 'This is Line4\\n',\n",
       " 'This is Line5']"
      ]
     },
     "execution_count": 15,
     "metadata": {},
     "output_type": "execute_result"
    }
   ],
   "source": [
    "fh = open(\"test1.txt\")\n",
    "# fh.read()\n",
    "# fh.read(2)\n",
    "# fh.readline()\n",
    "fh.readlines()"
   ]
  },
  {
   "cell_type": "code",
   "execution_count": 34,
   "metadata": {},
   "outputs": [
    {
     "data": {
      "text/plain": [
       "'T'"
      ]
     },
     "execution_count": 34,
     "metadata": {},
     "output_type": "execute_result"
    }
   ],
   "source": [
    "fh = open(\"test1.txt\")\n",
    "fh.read(1)"
   ]
  },
  {
   "cell_type": "code",
   "execution_count": 20,
   "metadata": {},
   "outputs": [
    {
     "data": {
      "text/plain": [
       "'hi'"
      ]
     },
     "execution_count": 20,
     "metadata": {},
     "output_type": "execute_result"
    }
   ],
   "source": [
    "fh.read(2)"
   ]
  },
  {
   "cell_type": "markdown",
   "metadata": {},
   "source": [
    "# tell"
   ]
  },
  {
   "cell_type": "code",
   "execution_count": 37,
   "metadata": {},
   "outputs": [
    {
     "name": "stdout",
     "output_type": "stream",
     "text": [
      "Th\n",
      "2\n",
      "is\n",
      "4\n"
     ]
    }
   ],
   "source": [
    "fh = open(\"test1.txt\")\n",
    "print(fh.read(2))\n",
    "print(fh.tell())\n",
    "print(fh.read(2))\n",
    "print(fh.tell())"
   ]
  },
  {
   "cell_type": "markdown",
   "metadata": {},
   "source": [
    "# seek"
   ]
  },
  {
   "cell_type": "code",
   "execution_count": null,
   "metadata": {},
   "outputs": [],
   "source": [
    "# seek(x,y)\n",
    "# x = offset (how many characters we want to skip)\n",
    "# y = pointer position\n",
    "#     0: starting of the file which is the default value\n",
    "#     1: current position\n",
    "#     2: end position\n",
    "    "
   ]
  },
  {
   "cell_type": "code",
   "execution_count": 41,
   "metadata": {},
   "outputs": [
    {
     "name": "stdout",
     "output_type": "stream",
     "text": [
      "This i\n",
      "This\n",
      "s is\n"
     ]
    }
   ],
   "source": [
    "fh = open(\"test1.txt\")\n",
    "print(fh.read(6))\n",
    "fh.seek(0)\n",
    "print(fh.read(4))\n",
    "fh.seek(3)\n",
    "print(fh.read(4))"
   ]
  },
  {
   "cell_type": "code",
   "execution_count": 42,
   "metadata": {},
   "outputs": [
    {
     "name": "stdout",
     "output_type": "stream",
     "text": [
      "This i\n",
      "s Li\n"
     ]
    }
   ],
   "source": [
    "fh = open(\"test1.txt\")\n",
    "print(fh.read(6))\n",
    "fh.seek(0,1)\n",
    "print(fh.read(4))"
   ]
  },
  {
   "cell_type": "code",
   "execution_count": 44,
   "metadata": {},
   "outputs": [
    {
     "name": "stdout",
     "output_type": "stream",
     "text": [
      "b'This i'\n",
      "b'ine1'\n"
     ]
    }
   ],
   "source": [
    "fh = open(\"test1.txt\",\"rb\")\n",
    "print(fh.read(6))\n",
    "fh.seek(3,1)\n",
    "print(fh.read(4))"
   ]
  },
  {
   "cell_type": "code",
   "execution_count": 5,
   "metadata": {},
   "outputs": [
    {
     "name": "stdout",
     "output_type": "stream",
     "text": [
      "b'This is Line1\\r\\nThis is Line2\\r\\nThis is Line3\\r\\nThis is Line4\\r\\nThis is Line5'\n",
      "63\n",
      "b's is'\n"
     ]
    }
   ],
   "source": [
    "fh = open(\"test1.txt\",\"rb\")\n",
    "print(fh.read())\n",
    "print(fh.seek(-10,2))\n",
    "print(fh.read(4))"
   ]
  },
  {
   "cell_type": "markdown",
   "metadata": {},
   "source": [
    "# Write"
   ]
  },
  {
   "cell_type": "code",
   "execution_count": 8,
   "metadata": {},
   "outputs": [],
   "source": [
    "fh = open(\"test2.txt\",\"w\")\n",
    "fh.write(\"This is line1\\n\")\n",
    "fh.write(\"This is line2\\n\")\n",
    "fh.write(\"This is line3\\n\")\n",
    "fh.close()"
   ]
  },
  {
   "cell_type": "markdown",
   "metadata": {},
   "source": [
    "# Append"
   ]
  },
  {
   "cell_type": "code",
   "execution_count": 9,
   "metadata": {},
   "outputs": [],
   "source": [
    "fh = open(\"test3.txt\",\"a\")\n",
    "fh.write(\"This is line2\\n\")\n",
    "fh.write(\"This is line3\\n\")\n",
    "fh.close()"
   ]
  },
  {
   "cell_type": "markdown",
   "metadata": {},
   "source": [
    "# csv writing"
   ]
  },
  {
   "cell_type": "code",
   "execution_count": 10,
   "metadata": {},
   "outputs": [],
   "source": [
    "fh = open(\"test4.csv\",\"w\")\n",
    "fh.write(\"A,B,C\\n\")\n",
    "fh.write(\"1,2,3\\n\")\n",
    "fh.close()"
   ]
  },
  {
   "cell_type": "markdown",
   "metadata": {},
   "source": [
    "# Iterate over file content"
   ]
  },
  {
   "cell_type": "code",
   "execution_count": 11,
   "metadata": {},
   "outputs": [
    {
     "name": "stdout",
     "output_type": "stream",
     "text": [
      "This is Line1\n",
      "\n",
      "This is Line2\n",
      "\n",
      "This is Line3\n",
      "\n",
      "This is Line4\n",
      "\n",
      "This is Line5\n"
     ]
    }
   ],
   "source": [
    "fh = open(\"test1.txt\")\n",
    "for line in fh:\n",
    "    print(line)"
   ]
  },
  {
   "cell_type": "markdown",
   "metadata": {},
   "source": [
    "# with"
   ]
  },
  {
   "cell_type": "code",
   "execution_count": 12,
   "metadata": {},
   "outputs": [],
   "source": [
    "# With startement <file will be closed automatically>"
   ]
  },
  {
   "cell_type": "code",
   "execution_count": 13,
   "metadata": {},
   "outputs": [
    {
     "name": "stdout",
     "output_type": "stream",
     "text": [
      "This is Line1\n",
      "\n",
      "This is Line2\n",
      "\n",
      "This is Line3\n",
      "\n",
      "This is Line4\n",
      "\n",
      "This is Line5\n"
     ]
    }
   ],
   "source": [
    "with open(\"test1.txt\") as fh:\n",
    "    for line in fh:\n",
    "        print(line)"
   ]
  },
  {
   "cell_type": "markdown",
   "metadata": {},
   "source": [
    "# Write a program to read a file and print its contents. \n",
    "- make sure that no blank lines are printed.\n",
    "- Print only those lines which is ending with even number\n"
   ]
  },
  {
   "cell_type": "code",
   "execution_count": 17,
   "metadata": {},
   "outputs": [
    {
     "name": "stdout",
     "output_type": "stream",
     "text": [
      "This is Line2\n",
      "\n",
      "This is Line4\n",
      "\n",
      "This is Line6\n",
      "\n",
      "This is Line8\n",
      "\n"
     ]
    }
   ],
   "source": [
    "fh = open(\"test5.txt\")\n",
    "for line in fh:\n",
    "    if line != \"\\n\":\n",
    "        if int(line[-2])%2 ==0:\n",
    "            print(line)"
   ]
  }
 ],
 "metadata": {
  "kernelspec": {
   "display_name": "Python 3",
   "language": "python",
   "name": "python3"
  },
  "language_info": {
   "codemirror_mode": {
    "name": "ipython",
    "version": 3
   },
   "file_extension": ".py",
   "mimetype": "text/x-python",
   "name": "python",
   "nbconvert_exporter": "python",
   "pygments_lexer": "ipython3",
   "version": "3.6.4"
  }
 },
 "nbformat": 4,
 "nbformat_minor": 2
}
