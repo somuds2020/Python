{
 "cells": [
  {
   "cell_type": "markdown",
   "metadata": {},
   "source": [
    "# Decision Making\n",
    "- Definition\n",
    "- if else statement\n",
    "- nested if else statement"
   ]
  },
  {
   "cell_type": "code",
   "execution_count": null,
   "metadata": {},
   "outputs": [],
   "source": [
    "# syntax:\n",
    "\n",
    "# if <condtion1> and <condtion2>:\n",
    "#     <statement1>\n",
    "#     <statement2>\n",
    "#     .\n",
    "#     .\n",
    "# else: # optional    \n",
    "#     <statement1>\n",
    "#     <statement2>\n",
    "#     .\n",
    "#     .\n",
    "# # or\n",
    "# if <condtion1>:\n",
    "#     <statement1>\n",
    "#     <statement2>\n",
    "#     .\n",
    "#     .\n",
    "# elif <condtion1>:\n",
    "#     <statement1>\n",
    "#     <statement2>\n",
    "#     .\n",
    "#     .\n",
    "# else: # optional    \n",
    "#     <statement1>\n",
    "#     <statement2>\n",
    "#     .\n",
    "#     ."
   ]
  },
  {
   "cell_type": "code",
   "execution_count": 1,
   "metadata": {},
   "outputs": [
    {
     "name": "stdout",
     "output_type": "stream",
     "text": [
      "1 is present in a\n"
     ]
    }
   ],
   "source": [
    "a = [1,2,3,4,5]\n",
    "if 1 in a:\n",
    "    print(\"1 is present in a\")\n",
    "else:\n",
    "    print(\"1 is NOT present in a\")"
   ]
  },
  {
   "cell_type": "code",
   "execution_count": 3,
   "metadata": {},
   "outputs": [
    {
     "name": "stdout",
     "output_type": "stream",
     "text": [
      "10 is NOT present in a\n"
     ]
    }
   ],
   "source": [
    "if 10 in a:\n",
    "    print(\"10 is present in a\")\n",
    "else:\n",
    "    print(\"10 is NOT present in a\")"
   ]
  },
  {
   "cell_type": "code",
   "execution_count": 5,
   "metadata": {},
   "outputs": [
    {
     "name": "stdout",
     "output_type": "stream",
     "text": [
      "10/20 is NOT present in a\n"
     ]
    }
   ],
   "source": [
    "if 10 in a:\n",
    "    print(\"10 is present in a\")\n",
    "elif 20 in a:\n",
    "    print(\"20 is NOT present in a\")\n",
    "else:\n",
    "    print(\"10/20 is NOT present in a\")"
   ]
  },
  {
   "cell_type": "code",
   "execution_count": 7,
   "metadata": {},
   "outputs": [
    {
     "name": "stdout",
     "output_type": "stream",
     "text": [
      "10 is not present in a\n"
     ]
    }
   ],
   "source": [
    "if 10 not in a:\n",
    "    print(\"10 is not present in a\")\n",
    "elif 20 in a:\n",
    "    print(\"20 is present in a\")\n",
    "else:\n",
    "    print(\"10/20 is NOT present in a\")"
   ]
  },
  {
   "cell_type": "code",
   "execution_count": 9,
   "metadata": {},
   "outputs": [
    {
     "name": "stdout",
     "output_type": "stream",
     "text": [
      "a is NOT GT b\n"
     ]
    }
   ],
   "source": [
    "a = 10\n",
    "b = 30\n",
    "if a>b:\n",
    "    print(\"a is GT b\")\n",
    "else:\n",
    "    print(\"a is NOT GT b\")"
   ]
  },
  {
   "cell_type": "code",
   "execution_count": null,
   "metadata": {},
   "outputs": [],
   "source": [
    "# if 10 in a and 20 in a or 30 not in a"
   ]
  }
 ],
 "metadata": {
  "kernelspec": {
   "display_name": "Python 3",
   "language": "python",
   "name": "python3"
  },
  "language_info": {
   "codemirror_mode": {
    "name": "ipython",
    "version": 3
   },
   "file_extension": ".py",
   "mimetype": "text/x-python",
   "name": "python",
   "nbconvert_exporter": "python",
   "pygments_lexer": "ipython3",
   "version": "3.6.4"
  }
 },
 "nbformat": 4,
 "nbformat_minor": 2
}
