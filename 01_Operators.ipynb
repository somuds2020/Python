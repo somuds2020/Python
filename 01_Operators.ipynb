{
 "cells": [
  {
   "cell_type": "markdown",
   "metadata": {
    "colab_type": "text",
    "id": "qMIs2-okDsAf"
   },
   "source": [
    "# Operators"
   ]
  },
  {
   "cell_type": "markdown",
   "metadata": {
    "colab_type": "text",
    "id": "c_1_OaB9DsAk"
   },
   "source": [
    "#### Python Assignment Operators and Arithmetic Operators"
   ]
  },
  {
   "cell_type": "code",
   "execution_count": 2,
   "metadata": {
    "ExecuteTime": {
     "end_time": "2018-07-21T03:32:48.025601Z",
     "start_time": "2018-07-21T03:32:48.010001Z"
    },
    "colab": {
     "base_uri": "https://localhost:8080/",
     "height": 147
    },
    "colab_type": "code",
    "executionInfo": {
     "elapsed": 1143,
     "status": "ok",
     "timestamp": 1558755351195,
     "user": {
      "displayName": "Pankaj Kumar Soni",
      "photoUrl": "",
      "userId": "01290747822948697127"
     },
     "user_tz": -330
    },
    "id": "w0eelCRLDsAn",
    "outputId": "95618601-20b1-4d0a-af8f-01cf2db30337"
   },
   "outputs": [
    {
     "name": "stdout",
     "output_type": "stream",
     "text": [
      "12\n",
      "8\n",
      "20\n",
      "5.0\n",
      "5\n",
      "100\n",
      "1\n"
     ]
    }
   ],
   "source": [
    "a = 10\n",
    "b = 2\n",
    "print(a+b) \n",
    "print(a-b)\n",
    "print(a*b)\n",
    "print(a/b)\n",
    "print(a//b) # Floor division\n",
    "print(a**b)\n",
    "print(10%3)"
   ]
  },
  {
   "cell_type": "code",
   "execution_count": null,
   "metadata": {},
   "outputs": [],
   "source": [
    "c = 11. # 11.0\n",
    "d = 13.2\n",
    "e = 1+4j\n",
    "f = \"abc\""
   ]
  },
  {
   "cell_type": "markdown",
   "metadata": {
    "colab_type": "text",
    "id": "YHCx2T90DsA5"
   },
   "source": [
    "#### Comparison Operators"
   ]
  },
  {
   "cell_type": "code",
   "execution_count": 9,
   "metadata": {
    "colab": {},
    "colab_type": "code",
    "id": "7sOV6eGBDsA-",
    "outputId": "f7148015-6c8c-4e35-c101-cafa38baf709"
   },
   "outputs": [
    {
     "name": "stdout",
     "output_type": "stream",
     "text": [
      "True\n",
      "False\n",
      "True\n"
     ]
    }
   ],
   "source": [
    "a = 2.0\n",
    "b = 2\n",
    "print (a==b)\n",
    "print (a is 2)\n",
    "print (a is not  3)"
   ]
  },
  {
   "cell_type": "code",
   "execution_count": 15,
   "metadata": {
    "colab": {},
    "colab_type": "code",
    "id": "7sOV6eGBDsA-",
    "outputId": "f7148015-6c8c-4e35-c101-cafa38baf709"
   },
   "outputs": [
    {
     "name": "stdout",
     "output_type": "stream",
     "text": [
      "False\n"
     ]
    }
   ],
   "source": [
    "a = 2\n",
    "b = 2.\n",
    "print (a is b)"
   ]
  },
  {
   "cell_type": "code",
   "execution_count": 14,
   "metadata": {
    "scrolled": true
   },
   "outputs": [
    {
     "name": "stdout",
     "output_type": "stream",
     "text": [
      "1523216128\n",
      "1523216128\n"
     ]
    }
   ],
   "source": [
    "a = 10\n",
    "b = 10\n",
    "print(id(a))\n",
    "print(id(b))"
   ]
  },
  {
   "cell_type": "markdown",
   "metadata": {
    "colab_type": "text",
    "id": "65IH89ziDsBJ"
   },
   "source": [
    "#### Logical Operators"
   ]
  },
  {
   "cell_type": "code",
   "execution_count": 0,
   "metadata": {
    "ExecuteTime": {
     "end_time": "2018-07-21T03:35:01.434002Z",
     "start_time": "2018-07-21T03:35:01.418402Z"
    },
    "colab": {},
    "colab_type": "code",
    "id": "QoTiKps5DsBK",
    "outputId": "bb27b50f-af2b-4b45-e75e-4560818989f0"
   },
   "outputs": [
    {
     "name": "stdout",
     "output_type": "stream",
     "text": [
      "3\n"
     ]
    }
   ],
   "source": [
    "a = 8\n",
    "b = 8\n",
    "c = 3\n",
    "print(a and b and c)"
   ]
  },
  {
   "cell_type": "code",
   "execution_count": 17,
   "metadata": {
    "ExecuteTime": {
     "end_time": "2018-07-21T03:35:01.434002Z",
     "start_time": "2018-07-21T03:35:01.418402Z"
    },
    "colab": {},
    "colab_type": "code",
    "id": "QoTiKps5DsBK",
    "outputId": "bb27b50f-af2b-4b45-e75e-4560818989f0"
   },
   "outputs": [
    {
     "name": "stdout",
     "output_type": "stream",
     "text": [
      "0\n"
     ]
    }
   ],
   "source": [
    "a = 8\n",
    "b = 0\n",
    "c = 3\n",
    "print(a and b and c and a)"
   ]
  },
  {
   "cell_type": "code",
   "execution_count": 18,
   "metadata": {
    "ExecuteTime": {
     "end_time": "2018-07-21T03:35:01.434002Z",
     "start_time": "2018-07-21T03:35:01.418402Z"
    },
    "colab": {},
    "colab_type": "code",
    "id": "QoTiKps5DsBK",
    "outputId": "bb27b50f-af2b-4b45-e75e-4560818989f0"
   },
   "outputs": [
    {
     "name": "stdout",
     "output_type": "stream",
     "text": [
      "80\n"
     ]
    }
   ],
   "source": [
    "a = 80\n",
    "b = 0\n",
    "c = 3\n",
    "print(a or b or c or a)"
   ]
  },
  {
   "cell_type": "markdown",
   "metadata": {
    "colab_type": "text",
    "id": "AFblyNDLDsBV"
   },
   "source": [
    "#### Membership Operators"
   ]
  },
  {
   "cell_type": "code",
   "execution_count": 20,
   "metadata": {
    "colab": {},
    "colab_type": "code",
    "id": "IDo75SSiDsBX",
    "outputId": "2be016d4-c8e3-4b26-8cfe-d17fe0131b51"
   },
   "outputs": [
    {
     "name": "stdout",
     "output_type": "stream",
     "text": [
      "True\n",
      "True\n",
      "False\n",
      "True\n",
      "True\n"
     ]
    }
   ],
   "source": [
    "a = [1,2,3,4,5,11.,23.7,\"Learnbay\"]\n",
    "print(2 in a)\n",
    "print(20 not in a)\n",
    "print(20 in a)\n",
    "print(11.0 in a)\n",
    "print(\"Learnbay\" in a)"
   ]
  },
  {
   "cell_type": "markdown",
   "metadata": {
    "ExecuteTime": {
     "end_time": "2019-02-23T03:48:10.313368Z",
     "start_time": "2019-02-23T03:48:10.310368Z"
    },
    "colab_type": "text",
    "id": "Hi0Aw9YfDsBj"
   },
   "source": [
    "#### Operators (Decreasing order of precedence) \tMeaning"
   ]
  },
  {
   "cell_type": "code",
   "execution_count": 0,
   "metadata": {
    "ExecuteTime": {
     "end_time": "2019-02-23T03:48:10.313368Z",
     "start_time": "2019-02-23T03:48:10.310368Z"
    },
    "colab": {},
    "colab_type": "code",
    "id": "F8x4gtFeDsBm"
   },
   "outputs": [],
   "source": [
    "# ** \tExponent\n",
    "# *, /, //, % \tMultiplication, Division, Floor division, Modulus\n",
    "# +, - \tAddition, Subtraction\n",
    "# <= < > >= \tComparison operators\n",
    "# = %= /= //= -= += *= **= \tAssignment Operators\n",
    "# is is not \tIdentity operators\n",
    "# in not in \tMembership operators\n",
    "# not or and \tLogical operators"
   ]
  },
  {
   "cell_type": "markdown",
   "metadata": {
    "colab_type": "text",
    "id": "CFtwFP2oDsBw"
   },
   "source": [
    "# Getting input from user "
   ]
  },
  {
   "cell_type": "code",
   "execution_count": 22,
   "metadata": {
    "ExecuteTime": {
     "end_time": "2018-07-21T03:31:34.075400Z",
     "start_time": "2018-07-21T03:31:32.696000Z"
    },
    "colab": {},
    "colab_type": "code",
    "id": "N96RLZYtDsBy",
    "outputId": "d9a0514f-127d-4646-978f-1c794a0f86fb"
   },
   "outputs": [
    {
     "name": "stdout",
     "output_type": "stream",
     "text": [
      "Please enter some number...10\n",
      "User entered:: 10\n",
      "<class 'str'>\n"
     ]
    }
   ],
   "source": [
    "a = input(\"Please enter some number...\")\n",
    "print(\"User entered::\",a)\n",
    "print(type(a))"
   ]
  },
  {
   "cell_type": "code",
   "execution_count": 23,
   "metadata": {},
   "outputs": [
    {
     "name": "stdout",
     "output_type": "stream",
     "text": [
      "<class 'int'>\n",
      "<class 'complex'>\n"
     ]
    }
   ],
   "source": [
    "a = 10\n",
    "b = 1+4j\n",
    "print(type(a))\n",
    "print(type(b))"
   ]
  },
  {
   "cell_type": "code",
   "execution_count": 24,
   "metadata": {},
   "outputs": [
    {
     "name": "stdout",
     "output_type": "stream",
     "text": [
      "<class 'float'>\n",
      "<class 'str'>\n"
     ]
    }
   ],
   "source": [
    "a = 10.3\n",
    "b = \"1+4j\"\n",
    "print(type(a))\n",
    "print(type(b))"
   ]
  },
  {
   "cell_type": "markdown",
   "metadata": {
    "colab_type": "text",
    "id": "fx_MsNTlDsCG"
   },
   "source": [
    "# Comments and Multiline comments"
   ]
  },
  {
   "cell_type": "code",
   "execution_count": 0,
   "metadata": {
    "colab": {},
    "colab_type": "code",
    "id": "Z8HY1-3IDsCI",
    "outputId": "03e44010-fb97-4486-df49-316b5b8ae596"
   },
   "outputs": [
    {
     "data": {
      "text/plain": [
       "'This is multi line comment1\\nThis is multi line comment2\\nThis is multi line comment3\\n'"
      ]
     },
     "execution_count": 8,
     "metadata": {
      "tags": []
     },
     "output_type": "execute_result"
    }
   ],
   "source": [
    "# This is single line comment_1\n",
    "# This is single line comment_2 \\\n",
    "\"\"\"This is multi line comment1\n",
    "This is multi line comment2\n",
    "This is multi line comment3\n",
    "\"\"\""
   ]
  }
 ],
 "metadata": {
  "colab": {
   "name": "01_Operators.ipynb",
   "provenance": [],
   "version": "0.3.2"
  },
  "kernelspec": {
   "display_name": "Python 3",
   "language": "python",
   "name": "python3"
  },
  "language_info": {
   "codemirror_mode": {
    "name": "ipython",
    "version": 3
   },
   "file_extension": ".py",
   "mimetype": "text/x-python",
   "name": "python",
   "nbconvert_exporter": "python",
   "pygments_lexer": "ipython3",
   "version": "3.6.4"
  }
 },
 "nbformat": 4,
 "nbformat_minor": 1
}
