{
 "cells": [
  {
   "cell_type": "markdown",
   "metadata": {},
   "source": [
    "# Functions\n",
    "- Definition\n",
    "- Use of function\n",
    "- How to write functions\n",
    "- How to call functions\n",
    "- Mandatory/Non-mandatory , Optional, keyworded, non-keyworded argument\n",
    "- Handling multiple arguments (KW and non-KW)"
   ]
  },
  {
   "cell_type": "markdown",
   "metadata": {},
   "source": [
    "# Write a function which takes one input number from user and display a message whether it is even or odd number"
   ]
  },
  {
   "cell_type": "code",
   "execution_count": 2,
   "metadata": {},
   "outputs": [
    {
     "name": "stdout",
     "output_type": "stream",
     "text": [
      "Enter a number...23\n",
      "Number is Odd\n"
     ]
    }
   ],
   "source": [
    "def chkEvenOddNum():\n",
    "    a = int(input(\"Enter a number...\"))\n",
    "    if a%2 ==0:\n",
    "        print(\"Number is Even\")\n",
    "    else:\n",
    "        print(\"Number is Odd\")\n",
    "\n",
    "chkEvenOddNum()"
   ]
  },
  {
   "cell_type": "code",
   "execution_count": 6,
   "metadata": {},
   "outputs": [
    {
     "name": "stdout",
     "output_type": "stream",
     "text": [
      "Enter a number...23\n",
      "Number is Odd\n"
     ]
    }
   ],
   "source": [
    "def chkEvenOddNum(a):\n",
    "    if a%2 ==0:\n",
    "        print(\"Number is Even\")\n",
    "    else:\n",
    "        print(\"Number is Odd\")\n",
    "\n",
    "a = int(input(\"Enter a number...\"))\n",
    "chkEvenOddNum(a)"
   ]
  }
 ],
 "metadata": {
  "kernelspec": {
   "display_name": "Python 3",
   "language": "python",
   "name": "python3"
  },
  "language_info": {
   "codemirror_mode": {
    "name": "ipython",
    "version": 3
   },
   "file_extension": ".py",
   "mimetype": "text/x-python",
   "name": "python",
   "nbconvert_exporter": "python",
   "pygments_lexer": "ipython3",
   "version": "3.6.4"
  },
  "varInspector": {
   "cols": {
    "lenName": 16,
    "lenType": 16,
    "lenVar": 40
   },
   "kernels_config": {
    "python": {
     "delete_cmd_postfix": "",
     "delete_cmd_prefix": "del ",
     "library": "var_list.py",
     "varRefreshCmd": "print(var_dic_list())"
    },
    "r": {
     "delete_cmd_postfix": ") ",
     "delete_cmd_prefix": "rm(",
     "library": "var_list.r",
     "varRefreshCmd": "cat(var_dic_list()) "
    }
   },
   "types_to_exclude": [
    "module",
    "function",
    "builtin_function_or_method",
    "instance",
    "_Feature"
   ],
   "window_display": false
  }
 },
 "nbformat": 4,
 "nbformat_minor": 2
}
