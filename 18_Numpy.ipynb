{
 "cells": [
  {
   "cell_type": "markdown",
   "metadata": {},
   "source": [
    "# Numpy\n",
    "- Introduction to Numpy Array Creation Printing Arrays, Basic Operations- Indexing, Slicing and Iterating\n",
    "- Shape Manipulation - Changing shape,\n",
    "- stacking and spliting of array Vector stacking\n",
    "- Arithmetic operation, Matrix multipliacation\n",
    "- Filtering values from an array\n",
    "- Applying statistic function over array (to whole elements or row wise or column wise)\n",
    "- Exercise"
   ]
  },
  {
   "cell_type": "code",
   "execution_count": 1,
   "metadata": {},
   "outputs": [],
   "source": [
    "import numpy as np"
   ]
  },
  {
   "cell_type": "code",
   "execution_count": 3,
   "metadata": {},
   "outputs": [
    {
     "name": "stdout",
     "output_type": "stream",
     "text": [
      "616\n"
     ]
    }
   ],
   "source": [
    "print(len(dir(np)))"
   ]
  },
  {
   "cell_type": "code",
   "execution_count": 4,
   "metadata": {},
   "outputs": [
    {
     "name": "stdout",
     "output_type": "stream",
     "text": [
      "[]\n"
     ]
    }
   ],
   "source": [
    "a = np.array([])\n",
    "print(a)"
   ]
  },
  {
   "cell_type": "code",
   "execution_count": 6,
   "metadata": {},
   "outputs": [
    {
     "name": "stdout",
     "output_type": "stream",
     "text": [
      "[1 2 3]\n"
     ]
    }
   ],
   "source": [
    "a = np.array([1,2,3])\n",
    "print(a)"
   ]
  },
  {
   "cell_type": "code",
   "execution_count": 7,
   "metadata": {},
   "outputs": [
    {
     "name": "stdout",
     "output_type": "stream",
     "text": [
      "[[1 2 3]\n",
      " [4 5 6]]\n"
     ]
    }
   ],
   "source": [
    "a = np.array([[1,2,3],[4,5,6]])\n",
    "print(a)"
   ]
  },
  {
   "cell_type": "code",
   "execution_count": 8,
   "metadata": {},
   "outputs": [
    {
     "name": "stdout",
     "output_type": "stream",
     "text": [
      "[[1 2 3]\n",
      " [4 5 6]]\n",
      "int32\n",
      "6\n",
      "(2, 3)\n",
      "2\n",
      "4\n"
     ]
    }
   ],
   "source": [
    "print(a)\n",
    "print(a.dtype)\n",
    "print(a.size)\n",
    "print(a.shape)\n",
    "print(a.ndim)\n",
    "print(a.itemsize)"
   ]
  },
  {
   "cell_type": "code",
   "execution_count": 13,
   "metadata": {},
   "outputs": [
    {
     "name": "stdout",
     "output_type": "stream",
     "text": [
      "[[1. 2. 3.]\n",
      " [4. 5. 6.]]\n",
      "float64\n"
     ]
    }
   ],
   "source": [
    "a = np.array([[1,2,3],[4,5,6.]])\n",
    "print(a)\n",
    "print(a.dtype)\n"
   ]
  },
  {
   "cell_type": "markdown",
   "metadata": {},
   "source": [
    "# change the dtype"
   ]
  },
  {
   "cell_type": "code",
   "execution_count": 11,
   "metadata": {},
   "outputs": [
    {
     "name": "stdout",
     "output_type": "stream",
     "text": [
      "[[1 2 3]\n",
      " [4 5 6]]\n",
      "int16\n",
      "2\n"
     ]
    }
   ],
   "source": [
    "a = np.array([[1,2,3],[4,5,6.]],dtype=\"int16\")\n",
    "print(a)\n",
    "print(a.dtype)\n",
    "print(a.itemsize)\n"
   ]
  },
  {
   "cell_type": "code",
   "execution_count": 15,
   "metadata": {},
   "outputs": [
    {
     "name": "stdout",
     "output_type": "stream",
     "text": [
      "[list([1, 2, 3, 4]) list([4, 5, 6.0])]\n",
      "object\n",
      "8\n"
     ]
    }
   ],
   "source": [
    "a = np.array([[1,2,3,4],[4,5,6.]])\n",
    "print(a)\n",
    "print(a.dtype)\n",
    "print(a.itemsize)\n"
   ]
  },
  {
   "cell_type": "markdown",
   "metadata": {},
   "source": [
    "# Break , will b eback by 2:05PM"
   ]
  },
  {
   "cell_type": "markdown",
   "metadata": {},
   "source": [
    "# Basic operations"
   ]
  },
  {
   "cell_type": "code",
   "execution_count": 18,
   "metadata": {},
   "outputs": [
    {
     "name": "stdout",
     "output_type": "stream",
     "text": [
      "[[1 2]\n",
      " [3 4]]\n",
      "[[1 1]\n",
      " [2 2]]\n",
      "####################\n",
      "[[2 3]\n",
      " [5 6]]\n",
      "[[0 1]\n",
      " [1 2]]\n",
      "[[1 2]\n",
      " [6 8]]\n",
      "[[ 1  2]\n",
      " [ 9 16]]\n"
     ]
    }
   ],
   "source": [
    "a = np.array([[1,2],[3,4]])\n",
    "b = np.array([[1,1],[2,2]])\n",
    "print(a)\n",
    "print(b)\n",
    "print(\"#\"*20)\n",
    "print(a+b)\n",
    "print(a-b)\n",
    "print(a*b)\n",
    "print(a**b) # a power  b"
   ]
  },
  {
   "cell_type": "markdown",
   "metadata": {},
   "source": [
    "# dot product"
   ]
  },
  {
   "cell_type": "code",
   "execution_count": 20,
   "metadata": {},
   "outputs": [
    {
     "name": "stdout",
     "output_type": "stream",
     "text": [
      "[[1 2]\n",
      " [3 4]]\n",
      "[[1 1]\n",
      " [2 2]]\n"
     ]
    },
    {
     "data": {
      "text/plain": [
       "array([[ 5,  5],\n",
       "       [11, 11]])"
      ]
     },
     "execution_count": 20,
     "metadata": {},
     "output_type": "execute_result"
    }
   ],
   "source": [
    "a = np.array([[1,2],[3,4]])\n",
    "b = np.array([[1,1],[2,2]])\n",
    "print(a)\n",
    "print(b)\n",
    "np.dot(a,b)"
   ]
  },
  {
   "cell_type": "markdown",
   "metadata": {},
   "source": [
    "# arange"
   ]
  },
  {
   "cell_type": "code",
   "execution_count": 21,
   "metadata": {},
   "outputs": [
    {
     "data": {
      "text/plain": [
       "array([0, 1, 2, 3, 4, 5, 6, 7, 8, 9])"
      ]
     },
     "execution_count": 21,
     "metadata": {},
     "output_type": "execute_result"
    }
   ],
   "source": [
    "a = np.arange(10)\n",
    "a"
   ]
  },
  {
   "cell_type": "code",
   "execution_count": 22,
   "metadata": {},
   "outputs": [
    {
     "data": {
      "text/plain": [
       "array([1, 2, 3, 4, 5, 6, 7, 8, 9])"
      ]
     },
     "execution_count": 22,
     "metadata": {},
     "output_type": "execute_result"
    }
   ],
   "source": [
    "a = np.arange(1,10)\n",
    "a"
   ]
  },
  {
   "cell_type": "markdown",
   "metadata": {},
   "source": [
    "# reshape"
   ]
  },
  {
   "cell_type": "code",
   "execution_count": 26,
   "metadata": {},
   "outputs": [
    {
     "data": {
      "text/plain": [
       "array([[0],\n",
       "       [1],\n",
       "       [2],\n",
       "       [3],\n",
       "       [4],\n",
       "       [5],\n",
       "       [6],\n",
       "       [7],\n",
       "       [8],\n",
       "       [9]])"
      ]
     },
     "execution_count": 26,
     "metadata": {},
     "output_type": "execute_result"
    }
   ],
   "source": [
    "a = np.arange(10)\n",
    "# a.reshape(5,2)\n",
    "# a.reshape(2,5)\n",
    "a.reshape(10,1)"
   ]
  },
  {
   "cell_type": "markdown",
   "metadata": {},
   "source": [
    "#### random"
   ]
  },
  {
   "cell_type": "code",
   "execution_count": 30,
   "metadata": {},
   "outputs": [
    {
     "data": {
      "text/plain": [
       "array([[ 1, 33, 25],\n",
       "       [29, 31, 20],\n",
       "       [34,  7, 41],\n",
       "       [42, 39, 11],\n",
       "       [ 8, 38, 48],\n",
       "       [29,  4, 41],\n",
       "       [11, 14, 23],\n",
       "       [32, 22, 19],\n",
       "       [ 4, 45, 48],\n",
       "       [43, 45,  2]])"
      ]
     },
     "execution_count": 30,
     "metadata": {},
     "output_type": "execute_result"
    }
   ],
   "source": [
    "r = np.random.randint(1,50,30).reshape(10,3)\n",
    "r"
   ]
  },
  {
   "cell_type": "code",
   "execution_count": 31,
   "metadata": {},
   "outputs": [
    {
     "data": {
      "text/plain": [
       "array([3, 1, 6, 6, 4, 1, 3, 1, 5, 2, 1, 3, 3, 1, 1, 3, 3, 2, 6, 5, 5, 5,\n",
       "       5, 4, 3, 6, 4, 4, 4, 2, 4, 5, 1, 1, 2, 6, 2, 6, 6, 4, 5, 4, 3, 3,\n",
       "       2, 1, 5, 3, 1, 1, 4, 5, 3, 4, 1, 6, 3, 3, 3, 5, 4, 6, 4, 4, 2, 3,\n",
       "       1, 1, 2, 5, 6, 4, 5, 5, 6, 1, 6, 5, 6, 6, 1, 6, 4, 2, 5, 6, 3, 4,\n",
       "       6, 5, 3, 3, 4, 3, 4, 3, 1, 3, 1, 1])"
      ]
     },
     "execution_count": 31,
     "metadata": {},
     "output_type": "execute_result"
    }
   ],
   "source": [
    "r = np.random.randint(1,7,100)\n",
    "r"
   ]
  },
  {
   "cell_type": "markdown",
   "metadata": {},
   "source": [
    "# 3 -dim array"
   ]
  },
  {
   "cell_type": "code",
   "execution_count": null,
   "metadata": {},
   "outputs": [],
   "source": []
  },
  {
   "cell_type": "code",
   "execution_count": 34,
   "metadata": {},
   "outputs": [
    {
     "data": {
      "text/plain": [
       "array([[[7, 2, 6],\n",
       "        [6, 4, 9],\n",
       "        [6, 4, 6]],\n",
       "\n",
       "       [[7, 6, 9],\n",
       "        [4, 6, 8],\n",
       "        [5, 3, 6]],\n",
       "\n",
       "       [[4, 7, 8],\n",
       "        [7, 3, 2],\n",
       "        [2, 4, 4]]])"
      ]
     },
     "execution_count": 34,
     "metadata": {},
     "output_type": "execute_result"
    }
   ],
   "source": [
    "r = np.random.randint(1,10,27).reshape(3,3,3)\n",
    "r"
   ]
  },
  {
   "cell_type": "markdown",
   "metadata": {},
   "source": [
    "# Stacking"
   ]
  },
  {
   "cell_type": "code",
   "execution_count": 36,
   "metadata": {},
   "outputs": [
    {
     "name": "stdout",
     "output_type": "stream",
     "text": [
      "[[1 2]\n",
      " [3 4]]\n",
      "##########\n",
      "[[5 6]\n",
      " [7 8]]\n"
     ]
    }
   ],
   "source": [
    "a = np.array([[1,2],[3,4]])\n",
    "b = np.array([[5,6],[7,8]])\n",
    "print(a)\n",
    "print(\"#\"*10)\n",
    "print(b)"
   ]
  },
  {
   "cell_type": "code",
   "execution_count": 38,
   "metadata": {},
   "outputs": [
    {
     "data": {
      "text/plain": [
       "array([[1, 2],\n",
       "       [3, 4],\n",
       "       [5, 6],\n",
       "       [7, 8]])"
      ]
     },
     "execution_count": 38,
     "metadata": {},
     "output_type": "execute_result"
    }
   ],
   "source": [
    "np.vstack([a,b])"
   ]
  },
  {
   "cell_type": "code",
   "execution_count": 39,
   "metadata": {},
   "outputs": [
    {
     "data": {
      "text/plain": [
       "array([[1, 2, 5, 6],\n",
       "       [3, 4, 7, 8]])"
      ]
     },
     "execution_count": 39,
     "metadata": {},
     "output_type": "execute_result"
    }
   ],
   "source": [
    "np.hstack([a,b])"
   ]
  },
  {
   "cell_type": "markdown",
   "metadata": {},
   "source": [
    "# Indexing and slicing row[row,col]"
   ]
  },
  {
   "cell_type": "code",
   "execution_count": 51,
   "metadata": {},
   "outputs": [
    {
     "data": {
      "text/plain": [
       "array([[8, 4, 3, 6],\n",
       "       [6, 5, 2, 2],\n",
       "       [1, 2, 7, 9],\n",
       "       [5, 9, 5, 5]])"
      ]
     },
     "execution_count": 51,
     "metadata": {},
     "output_type": "execute_result"
    }
   ],
   "source": [
    "r = np.random.randint(1,10,16).reshape(4,4)\n",
    "r"
   ]
  },
  {
   "cell_type": "code",
   "execution_count": 54,
   "metadata": {},
   "outputs": [
    {
     "name": "stdout",
     "output_type": "stream",
     "text": [
      "[[5 2]\n",
      " [2 7]]\n"
     ]
    }
   ],
   "source": [
    "# print(r[0])\n",
    "# print(r[-1])\n",
    "# print(r[:])\n",
    "# print(r[:,:])\n",
    "# print(r[0,1])\n",
    "# print(r[0,0])\n",
    "# print(r[::-1,::-1])\n",
    "print(r[1:3,1:3])\n",
    "# print(r[:,:2])"
   ]
  },
  {
   "cell_type": "markdown",
   "metadata": {},
   "source": [
    "# Create an array of 49 (7x7) matrix and replace all the values above diagonal to zero and later replace all the values below diagonal to zero"
   ]
  },
  {
   "cell_type": "code",
   "execution_count": 68,
   "metadata": {},
   "outputs": [
    {
     "data": {
      "text/plain": [
       "array([[2, 5, 8, 1, 5, 1, 9],\n",
       "       [5, 3, 5, 9, 8, 6, 5],\n",
       "       [5, 5, 6, 8, 2, 3, 2],\n",
       "       [1, 3, 9, 8, 8, 2, 6],\n",
       "       [2, 6, 1, 1, 6, 3, 4],\n",
       "       [1, 4, 9, 6, 1, 6, 9],\n",
       "       [6, 1, 2, 4, 9, 9, 4]])"
      ]
     },
     "execution_count": 68,
     "metadata": {},
     "output_type": "execute_result"
    }
   ],
   "source": [
    "m = np.random.randint(1,10,49).reshape(7,7)\n",
    "m"
   ]
  },
  {
   "cell_type": "code",
   "execution_count": 67,
   "metadata": {},
   "outputs": [
    {
     "data": {
      "text/plain": [
       "array([[5, 0, 0, 0, 0, 0, 0],\n",
       "       [9, 2, 0, 0, 0, 0, 0],\n",
       "       [3, 4, 3, 0, 0, 0, 0],\n",
       "       [3, 9, 9, 3, 0, 0, 0],\n",
       "       [5, 5, 6, 5, 7, 0, 0],\n",
       "       [1, 9, 8, 8, 9, 8, 0],\n",
       "       [9, 6, 1, 2, 1, 4, 1]])"
      ]
     },
     "execution_count": 67,
     "metadata": {},
     "output_type": "execute_result"
    }
   ],
   "source": [
    "cnt = 1\n",
    "for row in m:\n",
    "    row[cnt:] = 0\n",
    "    cnt +=1\n",
    "m"
   ]
  },
  {
   "cell_type": "code",
   "execution_count": 69,
   "metadata": {},
   "outputs": [
    {
     "data": {
      "text/plain": [
       "array([[2, 5, 8, 1, 5, 1, 9],\n",
       "       [0, 3, 5, 9, 8, 6, 5],\n",
       "       [0, 0, 6, 8, 2, 3, 2],\n",
       "       [0, 0, 0, 8, 8, 2, 6],\n",
       "       [0, 0, 0, 0, 6, 3, 4],\n",
       "       [0, 0, 0, 0, 0, 6, 9],\n",
       "       [0, 0, 0, 0, 0, 0, 4]])"
      ]
     },
     "execution_count": 69,
     "metadata": {},
     "output_type": "execute_result"
    }
   ],
   "source": [
    "cnt = 1\n",
    "for row in m:\n",
    "    row[:cnt-1] = 0\n",
    "    cnt +=1\n",
    "m"
   ]
  },
  {
   "cell_type": "markdown",
   "metadata": {},
   "source": [
    "### Filtering values"
   ]
  },
  {
   "cell_type": "code",
   "execution_count": 71,
   "metadata": {},
   "outputs": [
    {
     "data": {
      "text/plain": [
       "array([[46,  2, 20,  7, 43, 45],\n",
       "       [48, 50,  9, 23, 30, 86],\n",
       "       [22, 52, 58, 82, 23, 26],\n",
       "       [22, 57, 12, 51, 40, 79],\n",
       "       [30,  4, 72, 31, 84, 56],\n",
       "       [85, 56, 85, 68, 10,  7],\n",
       "       [50, 36,  2, 47, 18, 20],\n",
       "       [15, 86, 11, 79, 86,  2],\n",
       "       [18, 80, 68, 47, 25, 33],\n",
       "       [ 9, 18, 11, 71,  8, 60]])"
      ]
     },
     "execution_count": 71,
     "metadata": {},
     "output_type": "execute_result"
    }
   ],
   "source": [
    "m = np.random.randint(0,90,60).reshape(10,6)\n",
    "m"
   ]
  },
  {
   "cell_type": "markdown",
   "metadata": {},
   "source": [
    "###### using where function"
   ]
  },
  {
   "cell_type": "code",
   "execution_count": 75,
   "metadata": {},
   "outputs": [
    {
     "data": {
      "text/plain": [
       "(array([0, 0, 0, 1, 1, 2, 2, 2, 3, 3, 4, 5, 5, 6, 6, 6, 7, 7, 7, 8, 8, 9,\n",
       "        9, 9, 9], dtype=int64),\n",
       " array([1, 2, 3, 2, 3, 0, 4, 5, 0, 2, 1, 4, 5, 2, 4, 5, 0, 2, 5, 0, 4, 0,\n",
       "        1, 2, 4], dtype=int64))"
      ]
     },
     "execution_count": 75,
     "metadata": {},
     "output_type": "execute_result"
    }
   ],
   "source": [
    "idx = np.where(m<30)\n",
    "idx"
   ]
  },
  {
   "cell_type": "code",
   "execution_count": 79,
   "metadata": {},
   "outputs": [
    {
     "data": {
      "text/plain": [
       "22"
      ]
     },
     "execution_count": 79,
     "metadata": {},
     "output_type": "execute_result"
    }
   ],
   "source": [
    "m[idx][5]"
   ]
  },
  {
   "cell_type": "code",
   "execution_count": 77,
   "metadata": {},
   "outputs": [
    {
     "data": {
      "text/plain": [
       "25"
      ]
     },
     "execution_count": 77,
     "metadata": {},
     "output_type": "execute_result"
    }
   ],
   "source": [
    "m[idx].size"
   ]
  },
  {
   "cell_type": "markdown",
   "metadata": {},
   "source": [
    "###### multiple conditions"
   ]
  },
  {
   "cell_type": "code",
   "execution_count": 82,
   "metadata": {},
   "outputs": [
    {
     "data": {
      "text/plain": [
       "array([46, 43, 45, 48, 50, 52, 58, 57, 51, 40, 31, 56, 56, 50, 36, 47, 47,\n",
       "       33])"
      ]
     },
     "execution_count": 82,
     "metadata": {},
     "output_type": "execute_result"
    }
   ],
   "source": [
    "idx = np.where((m>30) & (m<60) )\n",
    "m[idx]"
   ]
  },
  {
   "cell_type": "markdown",
   "metadata": {},
   "source": [
    "###### Another way to filter"
   ]
  },
  {
   "cell_type": "code",
   "execution_count": 80,
   "metadata": {},
   "outputs": [
    {
     "data": {
      "text/plain": [
       "array([ 2, 20,  7,  9, 23, 22, 23, 26, 22, 12,  4, 10,  7,  2, 18, 20, 15,\n",
       "       11,  2, 18, 25,  9, 18, 11,  8])"
      ]
     },
     "execution_count": 80,
     "metadata": {},
     "output_type": "execute_result"
    }
   ],
   "source": [
    "m[m<30]"
   ]
  },
  {
   "cell_type": "code",
   "execution_count": null,
   "metadata": {},
   "outputs": [],
   "source": [
    "m = np.random.randint(1,10,49).reshape(7,7)\n",
    "m"
   ]
  },
  {
   "cell_type": "markdown",
   "metadata": {},
   "source": [
    "###### multiple conditions"
   ]
  },
  {
   "cell_type": "code",
   "execution_count": 83,
   "metadata": {},
   "outputs": [
    {
     "data": {
      "text/plain": [
       "array([46, 43, 45, 48, 50, 52, 58, 57, 51, 40, 31, 56, 56, 50, 36, 47, 47,\n",
       "       33])"
      ]
     },
     "execution_count": 83,
     "metadata": {},
     "output_type": "execute_result"
    }
   ],
   "source": [
    "m[(m>30) & (m<60) ]"
   ]
  },
  {
   "cell_type": "markdown",
   "metadata": {},
   "source": [
    "# Applying statistics functions"
   ]
  },
  {
   "cell_type": "code",
   "execution_count": 84,
   "metadata": {},
   "outputs": [
    {
     "data": {
      "text/plain": [
       "array([[7, 8, 1, 4],\n",
       "       [2, 7, 0, 6],\n",
       "       [5, 6, 7, 4],\n",
       "       [3, 1, 8, 7],\n",
       "       [2, 2, 7, 0]])"
      ]
     },
     "execution_count": 84,
     "metadata": {},
     "output_type": "execute_result"
    }
   ],
   "source": [
    "m = np.random.randint(0,10,20).reshape(5,4)\n",
    "m"
   ]
  },
  {
   "cell_type": "code",
   "execution_count": 86,
   "metadata": {},
   "outputs": [
    {
     "name": "stdout",
     "output_type": "stream",
     "text": [
      "87\n",
      "0\n"
     ]
    }
   ],
   "source": [
    "print(m.sum())\n",
    "print(m.min())"
   ]
  },
  {
   "cell_type": "code",
   "execution_count": 87,
   "metadata": {},
   "outputs": [
    {
     "name": "stdout",
     "output_type": "stream",
     "text": [
      "[19 24 23 21]\n"
     ]
    }
   ],
   "source": [
    "print(m.sum(axis=0))"
   ]
  },
  {
   "cell_type": "code",
   "execution_count": 91,
   "metadata": {},
   "outputs": [
    {
     "name": "stdout",
     "output_type": "stream",
     "text": [
      "[1.93907194 2.78567766 3.38230691 2.4       ]\n"
     ]
    }
   ],
   "source": [
    "print(m.std(axis=0))"
   ]
  },
  {
   "cell_type": "code",
   "execution_count": 92,
   "metadata": {},
   "outputs": [
    {
     "data": {
      "text/plain": [
       "2.7069355367278325"
      ]
     },
     "execution_count": 92,
     "metadata": {},
     "output_type": "execute_result"
    }
   ],
   "source": [
    "m.std()"
   ]
  },
  {
   "cell_type": "code",
   "execution_count": 93,
   "metadata": {},
   "outputs": [
    {
     "name": "stdout",
     "output_type": "stream",
     "text": [
      "[2.73861279 2.86138079 1.11803399 2.86138079 2.58602011]\n"
     ]
    }
   ],
   "source": [
    "print(m.std(axis=1))"
   ]
  },
  {
   "cell_type": "code",
   "execution_count": 94,
   "metadata": {},
   "outputs": [
    {
     "name": "stdout",
     "output_type": "stream",
     "text": [
      "4.35\n"
     ]
    }
   ],
   "source": [
    "print(m.mean())"
   ]
  },
  {
   "cell_type": "code",
   "execution_count": 95,
   "metadata": {},
   "outputs": [
    {
     "name": "stdout",
     "output_type": "stream",
     "text": [
      "[3.8 4.8 4.6 4.2]\n"
     ]
    }
   ],
   "source": [
    "print(m.mean(axis=0))"
   ]
  },
  {
   "cell_type": "code",
   "execution_count": 96,
   "metadata": {},
   "outputs": [
    {
     "name": "stdout",
     "output_type": "stream",
     "text": [
      "[ 3.76  7.76 11.44  5.76]\n"
     ]
    }
   ],
   "source": [
    "print(m.var(axis=0))"
   ]
  },
  {
   "cell_type": "code",
   "execution_count": 97,
   "metadata": {},
   "outputs": [
    {
     "name": "stdout",
     "output_type": "stream",
     "text": [
      "7.76\n"
     ]
    }
   ],
   "source": [
    "print(m[:,1].var(axis=0))"
   ]
  },
  {
   "cell_type": "code",
   "execution_count": 98,
   "metadata": {},
   "outputs": [
    {
     "name": "stdout",
     "output_type": "stream",
     "text": [
      "5.76\n"
     ]
    }
   ],
   "source": [
    "print(m[:,-1].var(axis=0))"
   ]
  },
  {
   "cell_type": "code",
   "execution_count": 99,
   "metadata": {},
   "outputs": [
    {
     "name": "stdout",
     "output_type": "stream",
     "text": [
      "6.6875\n"
     ]
    }
   ],
   "source": [
    "print(m[-1].var(axis=0))"
   ]
  },
  {
   "cell_type": "markdown",
   "metadata": {},
   "source": [
    "###### Transpose"
   ]
  },
  {
   "cell_type": "code",
   "execution_count": 89,
   "metadata": {},
   "outputs": [
    {
     "data": {
      "text/plain": [
       "array([[7, 2, 5, 3, 2],\n",
       "       [8, 7, 6, 1, 2],\n",
       "       [1, 0, 7, 8, 7],\n",
       "       [4, 6, 4, 7, 0]])"
      ]
     },
     "execution_count": 89,
     "metadata": {},
     "output_type": "execute_result"
    }
   ],
   "source": [
    "m.T"
   ]
  },
  {
   "cell_type": "markdown",
   "metadata": {},
   "source": [
    "#### linspace"
   ]
  },
  {
   "cell_type": "code",
   "execution_count": 104,
   "metadata": {},
   "outputs": [
    {
     "data": {
      "text/plain": [
       "array([-1.        , -1.02040816, -1.04081633, -1.06122449, -1.08163265,\n",
       "       -1.10204082, -1.12244898, -1.14285714, -1.16326531, -1.18367347,\n",
       "       -1.20408163, -1.2244898 , -1.24489796, -1.26530612, -1.28571429,\n",
       "       -1.30612245, -1.32653061, -1.34693878, -1.36734694, -1.3877551 ,\n",
       "       -1.40816327, -1.42857143, -1.44897959, -1.46938776, -1.48979592,\n",
       "       -1.51020408, -1.53061224, -1.55102041, -1.57142857, -1.59183673,\n",
       "       -1.6122449 , -1.63265306, -1.65306122, -1.67346939, -1.69387755,\n",
       "       -1.71428571, -1.73469388, -1.75510204, -1.7755102 , -1.79591837,\n",
       "       -1.81632653, -1.83673469, -1.85714286, -1.87755102, -1.89795918,\n",
       "       -1.91836735, -1.93877551, -1.95918367, -1.97959184, -2.        ])"
      ]
     },
     "execution_count": 104,
     "metadata": {},
     "output_type": "execute_result"
    }
   ],
   "source": [
    "np.linspace(-1,-2)"
   ]
  },
  {
   "cell_type": "code",
   "execution_count": 105,
   "metadata": {},
   "outputs": [
    {
     "data": {
      "text/plain": [
       "array([ 1.,  2.,  3.,  4.,  5.,  6.,  7.,  8.,  9., 10.])"
      ]
     },
     "execution_count": 105,
     "metadata": {},
     "output_type": "execute_result"
    }
   ],
   "source": [
    "np.linspace(1,10,10)"
   ]
  }
 ],
 "metadata": {
  "kernelspec": {
   "display_name": "Python 3",
   "language": "python",
   "name": "python3"
  },
  "language_info": {
   "codemirror_mode": {
    "name": "ipython",
    "version": 3
   },
   "file_extension": ".py",
   "mimetype": "text/x-python",
   "name": "python",
   "nbconvert_exporter": "python",
   "pygments_lexer": "ipython3",
   "version": "3.6.4"
  },
  "varInspector": {
   "cols": {
    "lenName": 16,
    "lenType": 16,
    "lenVar": 40
   },
   "kernels_config": {
    "python": {
     "delete_cmd_postfix": "",
     "delete_cmd_prefix": "del ",
     "library": "var_list.py",
     "varRefreshCmd": "print(var_dic_list())"
    },
    "r": {
     "delete_cmd_postfix": ") ",
     "delete_cmd_prefix": "rm(",
     "library": "var_list.r",
     "varRefreshCmd": "cat(var_dic_list()) "
    }
   },
   "types_to_exclude": [
    "module",
    "function",
    "builtin_function_or_method",
    "instance",
    "_Feature"
   ],
   "window_display": false
  }
 },
 "nbformat": 4,
 "nbformat_minor": 2
}
